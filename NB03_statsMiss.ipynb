{
  "nbformat": 4,
  "nbformat_minor": 0,
  "metadata": {
    "colab": {
      "provenance": [],
      "authorship_tag": "ABX9TyOA5a3BaioAqKNrn9lKgc0q",
      "include_colab_link": true
    },
    "kernelspec": {
      "name": "python3",
      "display_name": "Python 3"
    },
    "language_info": {
      "name": "python"
    }
  },
  "cells": [
    {
      "cell_type": "markdown",
      "metadata": {
        "id": "view-in-github",
        "colab_type": "text"
      },
      "source": [
        "<a href=\"https://colab.research.google.com/github/lcbjrrr/algojust/blob/main/NB03_statsMiss.ipynb\" target=\"_parent\"><img src=\"https://colab.research.google.com/assets/colab-badge.svg\" alt=\"Open In Colab\"/></a>"
      ]
    },
    {
      "cell_type": "markdown",
      "source": [
        "- **Statistical Misinterpretation**: Misinterpreting results happens when conclusions don’t align with proper statistical analysis, leading to misleading findings. Common issues include assuming correlation means causation, cherry-picking data, or ignoring confounding factors. This can distort research outcomes and impact decision-making. Want to refine it further?\n",
        "\n",
        "\n",
        "*The data used herein is for illustrative purposes only and does not reflect actual real-world data*"
      ],
      "metadata": {
        "id": "1eEIY89v4RIm"
      }
    },
    {
      "cell_type": "code",
      "execution_count": 1,
      "metadata": {
        "colab": {
          "base_uri": "https://localhost:8080/"
        },
        "id": "3O50NqhVJSgf",
        "outputId": "85d9dc8b-5f03-48f9-8b71-a7ee5f171714"
      },
      "outputs": [
        {
          "output_type": "stream",
          "name": "stdout",
          "text": [
            "<class 'pandas.core.frame.DataFrame'>\n",
            "RangeIndex: 56 entries, 0 to 55\n",
            "Data columns (total 15 columns):\n",
            " #   Column              Non-Null Count  Dtype  \n",
            "---  ------              --------------  -----  \n",
            " 0   PREmRNA             56 non-null     int64  \n",
            " 1   POSTmRNA            56 non-null     int64  \n",
            " 2   PlacebomRNA         56 non-null     int64  \n",
            " 3   PREVector           56 non-null     int64  \n",
            " 4   POSTVector          56 non-null     float64\n",
            " 5   PlaceboVector       56 non-null     int64  \n",
            " 6   PREProtein          56 non-null     int64  \n",
            " 7   POSTProtein         56 non-null     int64  \n",
            " 8   PlaceboProtein      56 non-null     int64  \n",
            " 9   PREInactivated      56 non-null     int64  \n",
            " 10  POSTInactivated     56 non-null     int64  \n",
            " 11  PlaceboInactivated  56 non-null     int64  \n",
            " 12  PreDNA              56 non-null     int64  \n",
            " 13  PostDNA             56 non-null     int64  \n",
            " 14  PlaceboDNA          56 non-null     int64  \n",
            "dtypes: float64(1), int64(14)\n",
            "memory usage: 6.7 KB\n"
          ]
        }
      ],
      "source": [
        "import pandas as pd\n",
        "df = pd.read_csv('https://raw.githubusercontent.com/lcbjrrr/algojust/refs/heads/main/Covid%20-%20Cytokine.csv')\n",
        "df.info()"
      ]
    },
    {
      "cell_type": "code",
      "source": [
        "df.head()"
      ],
      "metadata": {
        "colab": {
          "base_uri": "https://localhost:8080/",
          "height": 226
        },
        "id": "FksYeGCL2-kc",
        "outputId": "51eabae4-af90-4154-d4bd-e0ae7981c866"
      },
      "execution_count": 2,
      "outputs": [
        {
          "output_type": "execute_result",
          "data": {
            "text/plain": [
              "   PREmRNA  POSTmRNA  PlacebomRNA  PREVector  POSTVector  PlaceboVector  \\\n",
              "0       40       660            0         40       330.0              0   \n",
              "1       40       150            1         40        75.0              1   \n",
              "2       10        30            1         10        15.0              1   \n",
              "3       20        60            1         20        30.0              1   \n",
              "4       11        45            0         11        22.5              0   \n",
              "\n",
              "   PREProtein  POSTProtein  PlaceboProtein  PREInactivated  POSTInactivated  \\\n",
              "0          40          220               0              22               88   \n",
              "1          40           50               1              33               99   \n",
              "2          10           10               1              22               88   \n",
              "3          20           20               1              11              111   \n",
              "4          11           15               0              22              122   \n",
              "\n",
              "   PlaceboInactivated  PreDNA  PostDNA  PlaceboDNA  \n",
              "0                   0       5       11           0  \n",
              "1                   1      11       11           1  \n",
              "2                   1      22       22           1  \n",
              "3                   1       6        5           1  \n",
              "4                   0       7       12           0  "
            ],
            "text/html": [
              "\n",
              "  <div id=\"df-e86dcebf-03dc-4059-a066-a62d9831ad09\" class=\"colab-df-container\">\n",
              "    <div>\n",
              "<style scoped>\n",
              "    .dataframe tbody tr th:only-of-type {\n",
              "        vertical-align: middle;\n",
              "    }\n",
              "\n",
              "    .dataframe tbody tr th {\n",
              "        vertical-align: top;\n",
              "    }\n",
              "\n",
              "    .dataframe thead th {\n",
              "        text-align: right;\n",
              "    }\n",
              "</style>\n",
              "<table border=\"1\" class=\"dataframe\">\n",
              "  <thead>\n",
              "    <tr style=\"text-align: right;\">\n",
              "      <th></th>\n",
              "      <th>PREmRNA</th>\n",
              "      <th>POSTmRNA</th>\n",
              "      <th>PlacebomRNA</th>\n",
              "      <th>PREVector</th>\n",
              "      <th>POSTVector</th>\n",
              "      <th>PlaceboVector</th>\n",
              "      <th>PREProtein</th>\n",
              "      <th>POSTProtein</th>\n",
              "      <th>PlaceboProtein</th>\n",
              "      <th>PREInactivated</th>\n",
              "      <th>POSTInactivated</th>\n",
              "      <th>PlaceboInactivated</th>\n",
              "      <th>PreDNA</th>\n",
              "      <th>PostDNA</th>\n",
              "      <th>PlaceboDNA</th>\n",
              "    </tr>\n",
              "  </thead>\n",
              "  <tbody>\n",
              "    <tr>\n",
              "      <th>0</th>\n",
              "      <td>40</td>\n",
              "      <td>660</td>\n",
              "      <td>0</td>\n",
              "      <td>40</td>\n",
              "      <td>330.0</td>\n",
              "      <td>0</td>\n",
              "      <td>40</td>\n",
              "      <td>220</td>\n",
              "      <td>0</td>\n",
              "      <td>22</td>\n",
              "      <td>88</td>\n",
              "      <td>0</td>\n",
              "      <td>5</td>\n",
              "      <td>11</td>\n",
              "      <td>0</td>\n",
              "    </tr>\n",
              "    <tr>\n",
              "      <th>1</th>\n",
              "      <td>40</td>\n",
              "      <td>150</td>\n",
              "      <td>1</td>\n",
              "      <td>40</td>\n",
              "      <td>75.0</td>\n",
              "      <td>1</td>\n",
              "      <td>40</td>\n",
              "      <td>50</td>\n",
              "      <td>1</td>\n",
              "      <td>33</td>\n",
              "      <td>99</td>\n",
              "      <td>1</td>\n",
              "      <td>11</td>\n",
              "      <td>11</td>\n",
              "      <td>1</td>\n",
              "    </tr>\n",
              "    <tr>\n",
              "      <th>2</th>\n",
              "      <td>10</td>\n",
              "      <td>30</td>\n",
              "      <td>1</td>\n",
              "      <td>10</td>\n",
              "      <td>15.0</td>\n",
              "      <td>1</td>\n",
              "      <td>10</td>\n",
              "      <td>10</td>\n",
              "      <td>1</td>\n",
              "      <td>22</td>\n",
              "      <td>88</td>\n",
              "      <td>1</td>\n",
              "      <td>22</td>\n",
              "      <td>22</td>\n",
              "      <td>1</td>\n",
              "    </tr>\n",
              "    <tr>\n",
              "      <th>3</th>\n",
              "      <td>20</td>\n",
              "      <td>60</td>\n",
              "      <td>1</td>\n",
              "      <td>20</td>\n",
              "      <td>30.0</td>\n",
              "      <td>1</td>\n",
              "      <td>20</td>\n",
              "      <td>20</td>\n",
              "      <td>1</td>\n",
              "      <td>11</td>\n",
              "      <td>111</td>\n",
              "      <td>1</td>\n",
              "      <td>6</td>\n",
              "      <td>5</td>\n",
              "      <td>1</td>\n",
              "    </tr>\n",
              "    <tr>\n",
              "      <th>4</th>\n",
              "      <td>11</td>\n",
              "      <td>45</td>\n",
              "      <td>0</td>\n",
              "      <td>11</td>\n",
              "      <td>22.5</td>\n",
              "      <td>0</td>\n",
              "      <td>11</td>\n",
              "      <td>15</td>\n",
              "      <td>0</td>\n",
              "      <td>22</td>\n",
              "      <td>122</td>\n",
              "      <td>0</td>\n",
              "      <td>7</td>\n",
              "      <td>12</td>\n",
              "      <td>0</td>\n",
              "    </tr>\n",
              "  </tbody>\n",
              "</table>\n",
              "</div>\n",
              "    <div class=\"colab-df-buttons\">\n",
              "\n",
              "  <div class=\"colab-df-container\">\n",
              "    <button class=\"colab-df-convert\" onclick=\"convertToInteractive('df-e86dcebf-03dc-4059-a066-a62d9831ad09')\"\n",
              "            title=\"Convert this dataframe to an interactive table.\"\n",
              "            style=\"display:none;\">\n",
              "\n",
              "  <svg xmlns=\"http://www.w3.org/2000/svg\" height=\"24px\" viewBox=\"0 -960 960 960\">\n",
              "    <path d=\"M120-120v-720h720v720H120Zm60-500h600v-160H180v160Zm220 220h160v-160H400v160Zm0 220h160v-160H400v160ZM180-400h160v-160H180v160Zm440 0h160v-160H620v160ZM180-180h160v-160H180v160Zm440 0h160v-160H620v160Z\"/>\n",
              "  </svg>\n",
              "    </button>\n",
              "\n",
              "  <style>\n",
              "    .colab-df-container {\n",
              "      display:flex;\n",
              "      gap: 12px;\n",
              "    }\n",
              "\n",
              "    .colab-df-convert {\n",
              "      background-color: #E8F0FE;\n",
              "      border: none;\n",
              "      border-radius: 50%;\n",
              "      cursor: pointer;\n",
              "      display: none;\n",
              "      fill: #1967D2;\n",
              "      height: 32px;\n",
              "      padding: 0 0 0 0;\n",
              "      width: 32px;\n",
              "    }\n",
              "\n",
              "    .colab-df-convert:hover {\n",
              "      background-color: #E2EBFA;\n",
              "      box-shadow: 0px 1px 2px rgba(60, 64, 67, 0.3), 0px 1px 3px 1px rgba(60, 64, 67, 0.15);\n",
              "      fill: #174EA6;\n",
              "    }\n",
              "\n",
              "    .colab-df-buttons div {\n",
              "      margin-bottom: 4px;\n",
              "    }\n",
              "\n",
              "    [theme=dark] .colab-df-convert {\n",
              "      background-color: #3B4455;\n",
              "      fill: #D2E3FC;\n",
              "    }\n",
              "\n",
              "    [theme=dark] .colab-df-convert:hover {\n",
              "      background-color: #434B5C;\n",
              "      box-shadow: 0px 1px 3px 1px rgba(0, 0, 0, 0.15);\n",
              "      filter: drop-shadow(0px 1px 2px rgba(0, 0, 0, 0.3));\n",
              "      fill: #FFFFFF;\n",
              "    }\n",
              "  </style>\n",
              "\n",
              "    <script>\n",
              "      const buttonEl =\n",
              "        document.querySelector('#df-e86dcebf-03dc-4059-a066-a62d9831ad09 button.colab-df-convert');\n",
              "      buttonEl.style.display =\n",
              "        google.colab.kernel.accessAllowed ? 'block' : 'none';\n",
              "\n",
              "      async function convertToInteractive(key) {\n",
              "        const element = document.querySelector('#df-e86dcebf-03dc-4059-a066-a62d9831ad09');\n",
              "        const dataTable =\n",
              "          await google.colab.kernel.invokeFunction('convertToInteractive',\n",
              "                                                    [key], {});\n",
              "        if (!dataTable) return;\n",
              "\n",
              "        const docLinkHtml = 'Like what you see? Visit the ' +\n",
              "          '<a target=\"_blank\" href=https://colab.research.google.com/notebooks/data_table.ipynb>data table notebook</a>'\n",
              "          + ' to learn more about interactive tables.';\n",
              "        element.innerHTML = '';\n",
              "        dataTable['output_type'] = 'display_data';\n",
              "        await google.colab.output.renderOutput(dataTable, element);\n",
              "        const docLink = document.createElement('div');\n",
              "        docLink.innerHTML = docLinkHtml;\n",
              "        element.appendChild(docLink);\n",
              "      }\n",
              "    </script>\n",
              "  </div>\n",
              "\n",
              "\n",
              "    <div id=\"df-09716136-ba48-44b6-9141-b80339c3921f\">\n",
              "      <button class=\"colab-df-quickchart\" onclick=\"quickchart('df-09716136-ba48-44b6-9141-b80339c3921f')\"\n",
              "                title=\"Suggest charts\"\n",
              "                style=\"display:none;\">\n",
              "\n",
              "<svg xmlns=\"http://www.w3.org/2000/svg\" height=\"24px\"viewBox=\"0 0 24 24\"\n",
              "     width=\"24px\">\n",
              "    <g>\n",
              "        <path d=\"M19 3H5c-1.1 0-2 .9-2 2v14c0 1.1.9 2 2 2h14c1.1 0 2-.9 2-2V5c0-1.1-.9-2-2-2zM9 17H7v-7h2v7zm4 0h-2V7h2v10zm4 0h-2v-4h2v4z\"/>\n",
              "    </g>\n",
              "</svg>\n",
              "      </button>\n",
              "\n",
              "<style>\n",
              "  .colab-df-quickchart {\n",
              "      --bg-color: #E8F0FE;\n",
              "      --fill-color: #1967D2;\n",
              "      --hover-bg-color: #E2EBFA;\n",
              "      --hover-fill-color: #174EA6;\n",
              "      --disabled-fill-color: #AAA;\n",
              "      --disabled-bg-color: #DDD;\n",
              "  }\n",
              "\n",
              "  [theme=dark] .colab-df-quickchart {\n",
              "      --bg-color: #3B4455;\n",
              "      --fill-color: #D2E3FC;\n",
              "      --hover-bg-color: #434B5C;\n",
              "      --hover-fill-color: #FFFFFF;\n",
              "      --disabled-bg-color: #3B4455;\n",
              "      --disabled-fill-color: #666;\n",
              "  }\n",
              "\n",
              "  .colab-df-quickchart {\n",
              "    background-color: var(--bg-color);\n",
              "    border: none;\n",
              "    border-radius: 50%;\n",
              "    cursor: pointer;\n",
              "    display: none;\n",
              "    fill: var(--fill-color);\n",
              "    height: 32px;\n",
              "    padding: 0;\n",
              "    width: 32px;\n",
              "  }\n",
              "\n",
              "  .colab-df-quickchart:hover {\n",
              "    background-color: var(--hover-bg-color);\n",
              "    box-shadow: 0 1px 2px rgba(60, 64, 67, 0.3), 0 1px 3px 1px rgba(60, 64, 67, 0.15);\n",
              "    fill: var(--button-hover-fill-color);\n",
              "  }\n",
              "\n",
              "  .colab-df-quickchart-complete:disabled,\n",
              "  .colab-df-quickchart-complete:disabled:hover {\n",
              "    background-color: var(--disabled-bg-color);\n",
              "    fill: var(--disabled-fill-color);\n",
              "    box-shadow: none;\n",
              "  }\n",
              "\n",
              "  .colab-df-spinner {\n",
              "    border: 2px solid var(--fill-color);\n",
              "    border-color: transparent;\n",
              "    border-bottom-color: var(--fill-color);\n",
              "    animation:\n",
              "      spin 1s steps(1) infinite;\n",
              "  }\n",
              "\n",
              "  @keyframes spin {\n",
              "    0% {\n",
              "      border-color: transparent;\n",
              "      border-bottom-color: var(--fill-color);\n",
              "      border-left-color: var(--fill-color);\n",
              "    }\n",
              "    20% {\n",
              "      border-color: transparent;\n",
              "      border-left-color: var(--fill-color);\n",
              "      border-top-color: var(--fill-color);\n",
              "    }\n",
              "    30% {\n",
              "      border-color: transparent;\n",
              "      border-left-color: var(--fill-color);\n",
              "      border-top-color: var(--fill-color);\n",
              "      border-right-color: var(--fill-color);\n",
              "    }\n",
              "    40% {\n",
              "      border-color: transparent;\n",
              "      border-right-color: var(--fill-color);\n",
              "      border-top-color: var(--fill-color);\n",
              "    }\n",
              "    60% {\n",
              "      border-color: transparent;\n",
              "      border-right-color: var(--fill-color);\n",
              "    }\n",
              "    80% {\n",
              "      border-color: transparent;\n",
              "      border-right-color: var(--fill-color);\n",
              "      border-bottom-color: var(--fill-color);\n",
              "    }\n",
              "    90% {\n",
              "      border-color: transparent;\n",
              "      border-bottom-color: var(--fill-color);\n",
              "    }\n",
              "  }\n",
              "</style>\n",
              "\n",
              "      <script>\n",
              "        async function quickchart(key) {\n",
              "          const quickchartButtonEl =\n",
              "            document.querySelector('#' + key + ' button');\n",
              "          quickchartButtonEl.disabled = true;  // To prevent multiple clicks.\n",
              "          quickchartButtonEl.classList.add('colab-df-spinner');\n",
              "          try {\n",
              "            const charts = await google.colab.kernel.invokeFunction(\n",
              "                'suggestCharts', [key], {});\n",
              "          } catch (error) {\n",
              "            console.error('Error during call to suggestCharts:', error);\n",
              "          }\n",
              "          quickchartButtonEl.classList.remove('colab-df-spinner');\n",
              "          quickchartButtonEl.classList.add('colab-df-quickchart-complete');\n",
              "        }\n",
              "        (() => {\n",
              "          let quickchartButtonEl =\n",
              "            document.querySelector('#df-09716136-ba48-44b6-9141-b80339c3921f button');\n",
              "          quickchartButtonEl.style.display =\n",
              "            google.colab.kernel.accessAllowed ? 'block' : 'none';\n",
              "        })();\n",
              "      </script>\n",
              "    </div>\n",
              "\n",
              "    </div>\n",
              "  </div>\n"
            ],
            "application/vnd.google.colaboratory.intrinsic+json": {
              "type": "dataframe",
              "variable_name": "df",
              "summary": "{\n  \"name\": \"df\",\n  \"rows\": 56,\n  \"fields\": [\n    {\n      \"column\": \"PREmRNA\",\n      \"properties\": {\n        \"dtype\": \"number\",\n        \"std\": 12,\n        \"min\": 3,\n        \"max\": 40,\n        \"num_unique_values\": 11,\n        \"samples\": [\n          5,\n          40,\n          4\n        ],\n        \"semantic_type\": \"\",\n        \"description\": \"\"\n      }\n    },\n    {\n      \"column\": \"POSTmRNA\",\n      \"properties\": {\n        \"dtype\": \"number\",\n        \"std\": 592,\n        \"min\": 18,\n        \"max\": 1665,\n        \"num_unique_values\": 11,\n        \"samples\": [\n          999,\n          660,\n          18\n        ],\n        \"semantic_type\": \"\",\n        \"description\": \"\"\n      }\n    },\n    {\n      \"column\": \"PlacebomRNA\",\n      \"properties\": {\n        \"dtype\": \"number\",\n        \"std\": 0,\n        \"min\": 0,\n        \"max\": 1,\n        \"num_unique_values\": 2,\n        \"samples\": [\n          1,\n          0\n        ],\n        \"semantic_type\": \"\",\n        \"description\": \"\"\n      }\n    },\n    {\n      \"column\": \"PREVector\",\n      \"properties\": {\n        \"dtype\": \"number\",\n        \"std\": 12,\n        \"min\": 3,\n        \"max\": 40,\n        \"num_unique_values\": 11,\n        \"samples\": [\n          5,\n          40\n        ],\n        \"semantic_type\": \"\",\n        \"description\": \"\"\n      }\n    },\n    {\n      \"column\": \"POSTVector\",\n      \"properties\": {\n        \"dtype\": \"number\",\n        \"std\": 296.0199887950706,\n        \"min\": 9.0,\n        \"max\": 832.5,\n        \"num_unique_values\": 11,\n        \"samples\": [\n          499.5,\n          330.0\n        ],\n        \"semantic_type\": \"\",\n        \"description\": \"\"\n      }\n    },\n    {\n      \"column\": \"PlaceboVector\",\n      \"properties\": {\n        \"dtype\": \"number\",\n        \"std\": 0,\n        \"min\": 0,\n        \"max\": 1,\n        \"num_unique_values\": 2,\n        \"samples\": [\n          1,\n          0\n        ],\n        \"semantic_type\": \"\",\n        \"description\": \"\"\n      }\n    },\n    {\n      \"column\": \"PREProtein\",\n      \"properties\": {\n        \"dtype\": \"number\",\n        \"std\": 12,\n        \"min\": 3,\n        \"max\": 40,\n        \"num_unique_values\": 11,\n        \"samples\": [\n          5,\n          40\n        ],\n        \"semantic_type\": \"\",\n        \"description\": \"\"\n      }\n    },\n    {\n      \"column\": \"POSTProtein\",\n      \"properties\": {\n        \"dtype\": \"number\",\n        \"std\": 197,\n        \"min\": 6,\n        \"max\": 555,\n        \"num_unique_values\": 11,\n        \"samples\": [\n          333,\n          220\n        ],\n        \"semantic_type\": \"\",\n        \"description\": \"\"\n      }\n    },\n    {\n      \"column\": \"PlaceboProtein\",\n      \"properties\": {\n        \"dtype\": \"number\",\n        \"std\": 0,\n        \"min\": 0,\n        \"max\": 1,\n        \"num_unique_values\": 2,\n        \"samples\": [\n          1,\n          0\n        ],\n        \"semantic_type\": \"\",\n        \"description\": \"\"\n      }\n    },\n    {\n      \"column\": \"PREInactivated\",\n      \"properties\": {\n        \"dtype\": \"number\",\n        \"std\": 7,\n        \"min\": 10,\n        \"max\": 33,\n        \"num_unique_values\": 7,\n        \"samples\": [\n          22,\n          33\n        ],\n        \"semantic_type\": \"\",\n        \"description\": \"\"\n      }\n    },\n    {\n      \"column\": \"POSTInactivated\",\n      \"properties\": {\n        \"dtype\": \"number\",\n        \"std\": 15,\n        \"min\": 88,\n        \"max\": 133,\n        \"num_unique_values\": 9,\n        \"samples\": [\n          90,\n          99\n        ],\n        \"semantic_type\": \"\",\n        \"description\": \"\"\n      }\n    },\n    {\n      \"column\": \"PlaceboInactivated\",\n      \"properties\": {\n        \"dtype\": \"number\",\n        \"std\": 0,\n        \"min\": 0,\n        \"max\": 1,\n        \"num_unique_values\": 2,\n        \"samples\": [\n          1,\n          0\n        ],\n        \"semantic_type\": \"\",\n        \"description\": \"\"\n      }\n    },\n    {\n      \"column\": \"PreDNA\",\n      \"properties\": {\n        \"dtype\": \"number\",\n        \"std\": 7,\n        \"min\": 5,\n        \"max\": 29,\n        \"num_unique_values\": 9,\n        \"samples\": [\n          23,\n          11\n        ],\n        \"semantic_type\": \"\",\n        \"description\": \"\"\n      }\n    },\n    {\n      \"column\": \"PostDNA\",\n      \"properties\": {\n        \"dtype\": \"number\",\n        \"std\": 8,\n        \"min\": 5,\n        \"max\": 33,\n        \"num_unique_values\": 11,\n        \"samples\": [\n          24,\n          11\n        ],\n        \"semantic_type\": \"\",\n        \"description\": \"\"\n      }\n    },\n    {\n      \"column\": \"PlaceboDNA\",\n      \"properties\": {\n        \"dtype\": \"number\",\n        \"std\": 0,\n        \"min\": 0,\n        \"max\": 1,\n        \"num_unique_values\": 2,\n        \"samples\": [\n          1,\n          0\n        ],\n        \"semantic_type\": \"\",\n        \"description\": \"\"\n      }\n    }\n  ]\n}"
            }
          },
          "metadata": {},
          "execution_count": 2
        }
      ]
    },
    {
      "cell_type": "markdown",
      "source": [
        "#### Are any of the vaccines effective? Let's take the DNA based one as an initial exemple..."
      ],
      "metadata": {
        "id": "yX2fwn0Unlxh"
      }
    },
    {
      "cell_type": "code",
      "source": [
        "import matplotlib.pyplot as plt\n",
        "df_non_placebo = df[ df['PlaceboDNA']==0 ]\n",
        "avg_pre = df_non_placebo['PreDNA'].mean()\n",
        "avg_post = df_non_placebo['PostDNA'].mean()\n",
        "plt.bar(['Pre_DNA','Post_DNA'] , [avg_pre,avg_post])"
      ],
      "metadata": {
        "colab": {
          "base_uri": "https://localhost:8080/",
          "height": 451
        },
        "id": "n8QXqRKjoi0Q",
        "outputId": "ab75d380-19ac-4daa-8344-915dd22cbec8"
      },
      "execution_count": 3,
      "outputs": [
        {
          "output_type": "execute_result",
          "data": {
            "text/plain": [
              "<BarContainer object of 2 artists>"
            ]
          },
          "metadata": {},
          "execution_count": 3
        },
        {
          "output_type": "display_data",
          "data": {
            "text/plain": [
              "<Figure size 640x480 with 1 Axes>"
            ],
            "image/png": "[encoded data removed]"
          },
          "metadata": {}
        }
      ]
    },
    {
      "cell_type": "markdown",
      "source": [
        "#### How sure are you?"
      ],
      "metadata": {
        "id": "9GVkvKOCojAa"
      }
    },
    {
      "cell_type": "code",
      "source": [
        "sem_pre = df_non_placebo['PreDNA'].sem()\n",
        "sem_post = df_non_placebo['PostDNA'].sem()\n",
        "plt.grid(True)\n",
        "plt.bar(['Pre_DNA','Post_DNA'] , [avg_pre,avg_post], yerr=[sem_pre*1.96,sem_post*1.96])\n",
        "#CI for conf 95% or sig of 5%"
      ],
      "metadata": {
        "colab": {
          "base_uri": "https://localhost:8080/",
          "height": 447
        },
        "id": "tpYnacptoMBf",
        "outputId": "1bc8ad99-4af5-47ca-a79c-e285a523c660"
      },
      "execution_count": 4,
      "outputs": [
        {
          "output_type": "execute_result",
          "data": {
            "text/plain": [
              "<BarContainer object of 2 artists>"
            ]
          },
          "metadata": {},
          "execution_count": 4
        },
        {
          "output_type": "display_data",
          "data": {
            "text/plain": [
              "<Figure size 640x480 with 1 Axes>"
            ],
            "image/png": "[encoded data removed]"
          },
          "metadata": {}
        }
      ]
    },
    {
      "cell_type": "markdown",
      "source": [
        "#### Let's take another vaccine then, how about Inactivated virus based one?"
      ],
      "metadata": {
        "id": "58t7HUNRofEl"
      }
    },
    {
      "cell_type": "code",
      "source": [
        "df_non_placebo = df[ df['PlaceboInactivated']==0 ]\n",
        "avg_pre = df_non_placebo['PREInactivated'].mean()\n",
        "avg_post = df_non_placebo['POSTInactivated'].mean()\n",
        "sem_pre = df_non_placebo['PREInactivated'].sem()\n",
        "sem_post = df_non_placebo['POSTInactivated'].sem()\n",
        "print(avg_pre-sem_pre*1.96,avg_pre, avg_pre+ sem_pre*1.96)\n",
        "print(avg_post-sem_post*1.96,avg_post,avg_post+sem_post*1.96)\n",
        "plt.grid(True)\n",
        "plt.bar(['PRE','POST'] , [avg_pre,avg_post], yerr=[sem_pre*1.96,sem_post*1.96])"
      ],
      "metadata": {
        "colab": {
          "base_uri": "https://localhost:8080/",
          "height": 484
        },
        "id": "rf6E7ZvqofKe",
        "outputId": "45e104df-b3d6-4955-ed5d-7332a9a237d9"
      },
      "execution_count": 5,
      "outputs": [
        {
          "output_type": "stream",
          "name": "stdout",
          "text": [
            "18.731411685730638 21.25 23.768588314269362\n",
            "102.69047315305988 109.0 115.30952684694012\n"
          ]
        },
        {
          "output_type": "execute_result",
          "data": {
            "text/plain": [
              "<BarContainer object of 2 artists>"
            ]
          },
          "metadata": {},
          "execution_count": 5
        },
        {
          "output_type": "display_data",
          "data": {
            "text/plain": [
              "<Figure size 640x480 with 1 Axes>"
            ],
            "image/png": "[encoded data removed]"
          },
          "metadata": {}
        }
      ]
    },
    {
      "cell_type": "markdown",
      "source": [
        "#### Make sure to compare your results um a control group, for intance, people that took placebo."
      ],
      "metadata": {
        "id": "4UA4K4-hpgSi"
      }
    },
    {
      "cell_type": "code",
      "source": [
        "df_placebo = df[ df['PlaceboInactivated']==1 ]\n",
        "avg_pla = df_placebo['POSTInactivated'].mean()\n",
        "sem_pla = df_placebo['POSTInactivated'].sem()\n",
        "print(avg_post-sem_post*1.96,avg_post,avg_post+sem_post*1.96)\n",
        "print(avg_pla-sem_pla*1.96,avg_pla, avg_pla+ sem_pla*1.96)\n",
        "plt.grid(True)\n",
        "plt.bar(['POST','Placebo'] , [avg_post,avg_pla], yerr=[sem_post*1.96,sem_pla*1.96])"
      ],
      "metadata": {
        "colab": {
          "base_uri": "https://localhost:8080/",
          "height": 484
        },
        "id": "uxN-wm1vpgYA",
        "outputId": "d3b74b46-954d-4b4d-ce1d-e228c9649e67"
      },
      "execution_count": 6,
      "outputs": [
        {
          "output_type": "stream",
          "name": "stdout",
          "text": [
            "102.69047315305988 109.0 115.30952684694012\n",
            "95.90021659266698 99.5 103.09978340733302\n"
          ]
        },
        {
          "output_type": "execute_result",
          "data": {
            "text/plain": [
              "<BarContainer object of 2 artists>"
            ]
          },
          "metadata": {},
          "execution_count": 6
        },
        {
          "output_type": "display_data",
          "data": {
            "text/plain": [
              "<Figure size 640x480 with 1 Axes>"
            ],
            "image/png": "[encoded data removed]"
          },
          "metadata": {}
        }
      ]
    },
    {
      "cell_type": "markdown",
      "source": [
        "#### Let's check on the RNA based one:"
      ],
      "metadata": {
        "id": "eqjAirGPpyuc"
      }
    },
    {
      "cell_type": "code",
      "source": [
        "import seaborn as sns\n",
        "import numpy as np\n",
        "import matplotlib.pyplot as plt\n",
        "plt.grid(True)\n",
        "df_non_placebo = df[df['PlacebomRNA'] == 0].copy()\n",
        "avg_prem = df_non_placebo['PREmRNA'].mean()\n",
        "avg_postm = df_non_placebo['POSTmRNA'].mean()\n",
        "sem_prem = df_non_placebo['PREmRNA'].sem()\n",
        "sem_postm = df_non_placebo['POSTmRNA'].sem()\n",
        "plt.bar(['PREmRNA', 'POSTmRNA'], [avg_prem, avg_postm], yerr=[sem_prem*1.96,sem_postm*1.96])"
      ],
      "metadata": {
        "colab": {
          "base_uri": "https://localhost:8080/",
          "height": 447
        },
        "id": "rTWmg9OOJbtY",
        "outputId": "d8f9140d-7519-4f97-d987-b3be25d2bece"
      },
      "execution_count": null,
      "outputs": [
        {
          "output_type": "execute_result",
          "data": {
            "text/plain": [
              "<BarContainer object of 2 artists>"
            ]
          },
          "metadata": {},
          "execution_count": 10
        },
        {
          "output_type": "display_data",
          "data": {
            "text/plain": [
              "<Figure size 640x480 with 1 Axes>"
            ],
            "image/png": "[encoded data removed]"
          },
          "metadata": {}
        }
      ]
    },
    {
      "cell_type": "code",
      "source": [
        "df_placebo = df[df['PlacebomRNA'] == 1].copy()\n",
        "avg_placebo = df_placebo['POSTmRNA'].mean()\n",
        "sem_placebo = df_placebo['POSTmRNA'].sem()\n",
        "plt.grid(True)\n",
        "plt.bar(['mRNA', 'Placebo'],[avg_postm,avg_placebo], yerr=[sem_postm*1.96, sem_placebo*1.96])"
      ],
      "metadata": {
        "colab": {
          "base_uri": "https://localhost:8080/",
          "height": 447
        },
        "id": "dtvGmvyJKXY8",
        "outputId": "c404f20f-4de6-4729-956d-ee71ecf3217d"
      },
      "execution_count": null,
      "outputs": [
        {
          "output_type": "execute_result",
          "data": {
            "text/plain": [
              "<BarContainer object of 2 artists>"
            ]
          },
          "metadata": {},
          "execution_count": 11
        },
        {
          "output_type": "display_data",
          "data": {
            "text/plain": [
              "<Figure size 640x480 with 1 Axes>"
            ],
            "image/png": "[encoded data removed]"
          },
          "metadata": {}
        }
      ]
    },
    {
      "cell_type": "markdown",
      "source": [
        "#### Are any of the vaccines \"more efficient\" than the others? Meaning, is there a statistically significant relationship between two categorical variables by comparing observed frequencies to expected frequencies?"
      ],
      "metadata": {
        "id": "jxgqi5spqWEp"
      }
    },
    {
      "cell_type": "markdown",
      "source": [
        "# Chi-Squared test"
      ],
      "metadata": {
        "id": "xDs_zdiqkMO0"
      }
    },
    {
      "cell_type": "markdown",
      "source": [
        "The **Chi-Squared test** (often written as χ2 test) is a statistical hypothesis test that is widely used in the analysis of categorical data. It helps determine if there is a significant association between two categorical variables or if the observed frequency distribution of a single categorical variable differs from an expected frequency distribution.\n",
        "\n",
        "|          | Immune | Not |\n",
        "|----------|------|------|\n",
        "| mRNA | 25   | 5    |\n",
        "| DNA  | 5    | 10   |\n",
        "\n"
      ],
      "metadata": {
        "id": "v9Ms-APVbWys"
      }
    },
    {
      "cell_type": "code",
      "source": [
        "import numpy as np\n",
        "from scipy.stats import chisquare\n",
        "data = np.array([[25, 5],\n",
        "                 [5, 10]])\n",
        "mRNA = data[0,:].sum()\n",
        "DNA = data[1,:].sum()\n",
        "immune = data[:,0].sum()\n",
        "not_immune = data[:,1].sum()\n",
        "total = data.sum()\n",
        "print(mRNA,DNA,immune,not_immune,total)\n"
      ],
      "metadata": {
        "colab": {
          "base_uri": "https://localhost:8080/"
        },
        "id": "1Jx0-SbDXKAZ",
        "outputId": "54b93390-56a4-461c-ee61-5efcc4b8caa6"
      },
      "execution_count": null,
      "outputs": [
        {
          "output_type": "stream",
          "name": "stdout",
          "text": [
            "30 15 30 15 45\n"
          ]
        }
      ]
    },
    {
      "cell_type": "markdown",
      "source": [
        "\n",
        "|          | Immune | Not | Total |\n",
        "|----------|------|------|-------|\n",
        "| mRNA | 25   | 5    | **30**    |\n",
        "| DNA  | 5    | 10   | **15**    |\n",
        "| **Total**    | **30**   | **15**   | **45**    |\n",
        "\n"
      ],
      "metadata": {
        "id": "KIDinr0SjgSK"
      }
    },
    {
      "cell_type": "markdown",
      "source": [
        "$$T \\times P(mRNA) \\times P(imu) = total \\times \\left( \\frac{mRNA}{total} \\right) \\left( \\frac{immune}{total}\\right).\n",
        "$$\n",
        "\n"
      ],
      "metadata": {
        "id": "3BG5u6KEjhQT"
      }
    },
    {
      "cell_type": "markdown",
      "source": [
        "|          | **.................Immune.................** | **.............Not Immune.............** |\n",
        "|----------|------|------|\n",
        "| **mRNA** | $T \\times P(mRNA) \\times P(imu)$    | $T \\times P(mRNA) \\times  P(not)$    |\n",
        "| **DNA**  | $T \\times P(DNA) \\times P(imu)$    | $T \\times P(DNA) \\times P(not)$     |"
      ],
      "metadata": {
        "id": "M1gg7slEjjvb"
      }
    },
    {
      "cell_type": "code",
      "source": [
        "expected = np.array([[total*(mRNA/total)*(immune/total), total*(mRNA/total)*(not_immune/total)],\n",
        "                   [total*(DNA/total)*(immune/total), total*(DNA/total)*(not_immune/total)]])\n",
        "print(expected)\n",
        "stat, p_value = chisquare(data.flatten(), f_exp=expected.flatten())\n",
        "\n",
        "alpha = 0.05\n",
        "print(stat)\n",
        "print(p_value)\n",
        "\n",
        "#Conclusion: Highly Significant Association: The p-value (~0.0008) is much less than 0.05, indicating a very strong statistical association between..."
      ],
      "metadata": {
        "colab": {
          "base_uri": "https://localhost:8080/"
        },
        "id": "eTSXe38oZ1iw",
        "outputId": "1ef6b5e7-2af9-4c80-d15f-e8696108ecac"
      },
      "execution_count": null,
      "outputs": [
        {
          "output_type": "stream",
          "name": "stdout",
          "text": [
            "[[20. 10.]\n",
            " [10.  5.]]\n",
            "11.25\n",
            "0.010448064558680668\n"
          ]
        }
      ]
    },
    {
      "cell_type": "code",
      "source": [],
      "metadata": {
        "id": "DrnqWriKm3h_"
      },
      "execution_count": null,
      "outputs": []
    },
    {
      "cell_type": "markdown",
      "source": [
        "## Activity: Statistical Misinterpretation"
      ],
      "metadata": {
        "id": "qOyCUVgRvZDy"
      }
    },
    {
      "cell_type": "markdown",
      "source": [
        "\n",
        "**Problem**\n",
        "\n",
        "Statistical misinterpretation can severely distort research and decision-making by leading to misleading findings. In this sense, find a dataset on Kaggle that enables the comparison of at least two distinct groups. Ideally, your chosen dataset will include a control group. Then:\n",
        "\n",
        "- Group Comparison: Select a quantitative aspect within the dataset. Compare the overall results of your two chosen groups based on this aspect, identifying a primary difference.\n",
        "\n",
        "- Statistical Significance: Perform an appropriate statistical test to validate if this identified difference between your two groups is statistically significant, using the confidence interval concept. If a control group exists, extend your analysis to compare each primary group against it.\n",
        "\n",
        "- Frequency Analysis & Chi-Square: Identify a categorical variable. Compare the frequency of results for this variable between your two primary groups and validate any observed differences using a Chi-Square test.\n",
        "\n",
        "**Conclusions**\n",
        "\n",
        "Based on your analyses, clearly articulate your conclusions regarding the statistical significance of your findings for both the group comparisons and the frequency analysis. Discuss what these findings imply in the context of the dataset and the potential for misinterpretation."
      ],
      "metadata": {
        "id": "J40S7S_8vZNe"
      }
    },
    {
      "cell_type": "code",
      "source": [],
      "metadata": {
        "id": "4E2KzBgZv5-V"
      },
      "execution_count": null,
      "outputs": []
    }
  ]
}