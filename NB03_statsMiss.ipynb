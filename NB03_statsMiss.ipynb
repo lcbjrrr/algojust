{
  "nbformat": 4,
  "nbformat_minor": 0,
  "metadata": {
    "colab": {
      "provenance": [],
      "authorship_tag": "ABX9TyNPJ6oiyoVpgtpoBiJH+CdB",
      "include_colab_link": true
    },
    "kernelspec": {
      "name": "python3",
      "display_name": "Python 3"
    },
    "language_info": {
      "name": "python"
    }
  },
  "cells": [
    {
      "cell_type": "markdown",
      "metadata": {
        "id": "view-in-github",
        "colab_type": "text"
      },
      "source": [
        "<a href=\"https://colab.research.google.com/github/lcbjrrr/algojust/blob/main/NB03_statsMiss.ipynb\" target=\"_parent\"><img src=\"https://colab.research.google.com/assets/colab-badge.svg\" alt=\"Open In Colab\"/></a>"
      ]
    },
    {
      "cell_type": "markdown",
      "source": [
        "."
      ],
      "metadata": {
        "id": "E5ti94g2BjGq"
      }
    },
    {
      "cell_type": "markdown",
      "source": [
        "- **Statistical Misinterpretation**: Misinterpreting results happens when conclusions don’t align with proper statistical analysis, leading to misleading findings. Common issues include assuming correlation means causation, cherry-picking data, or ignoring confounding factors. This can distort research outcomes and impact decision-making. Want to refine it further?\n",
        "\n",
        "\n",
        "*The data used herein is for illustrative purposes only and does not reflect actual real-world data*"
      ],
      "metadata": {
        "id": "1eEIY89v4RIm"
      }
    },
    {
      "cell_type": "code",
      "execution_count": 6,
      "metadata": {
        "colab": {
          "base_uri": "https://localhost:8080/",
          "height": 132
        },
        "id": "3O50NqhVJSgf",
        "outputId": "7b854e39-bf45-4299-ed0b-666174271e70"
      },
      "outputs": [
        {
          "output_type": "execute_result",
          "data": {
            "text/plain": [
              "   PREmRNA  POSTmRNA  PlacebomRNA  PREVector  POSTVector  PlaceboVector  \\\n",
              "0       40       660            0         40       330.0              0   \n",
              "1       40       150            1         40        75.0              1   \n",
              "\n",
              "   PREProtein  POSTProtein  PlaceboProtein  PREInactivated  POSTInactivated  \\\n",
              "0          40          220               0              22               88   \n",
              "1          40           50               1              33               99   \n",
              "\n",
              "   PlaceboInactivated  PreDNA  PostDNA  PlaceboDNA  \n",
              "0                   0       5       11           0  \n",
              "1                   1      11       11           1  "
            ],
            "text/html": [
              "\n",
              "  <div id=\"df-36f5f886-e626-4869-b9c5-8ae3374ae522\" class=\"colab-df-container\">\n",
              "    <div>\n",
              "<style scoped>\n",
              "    .dataframe tbody tr th:only-of-type {\n",
              "        vertical-align: middle;\n",
              "    }\n",
              "\n",
              "    .dataframe tbody tr th {\n",
              "        vertical-align: top;\n",
              "    }\n",
              "\n",
              "    .dataframe thead th {\n",
              "        text-align: right;\n",
              "    }\n",
              "</style>\n",
              "<table border=\"1\" class=\"dataframe\">\n",
              "  <thead>\n",
              "    <tr style=\"text-align: right;\">\n",
              "      <th></th>\n",
              "      <th>PREmRNA</th>\n",
              "      <th>POSTmRNA</th>\n",
              "      <th>PlacebomRNA</th>\n",
              "      <th>PREVector</th>\n",
              "      <th>POSTVector</th>\n",
              "      <th>PlaceboVector</th>\n",
              "      <th>PREProtein</th>\n",
              "      <th>POSTProtein</th>\n",
              "      <th>PlaceboProtein</th>\n",
              "      <th>PREInactivated</th>\n",
              "      <th>POSTInactivated</th>\n",
              "      <th>PlaceboInactivated</th>\n",
              "      <th>PreDNA</th>\n",
              "      <th>PostDNA</th>\n",
              "      <th>PlaceboDNA</th>\n",
              "    </tr>\n",
              "  </thead>\n",
              "  <tbody>\n",
              "    <tr>\n",
              "      <th>0</th>\n",
              "      <td>40</td>\n",
              "      <td>660</td>\n",
              "      <td>0</td>\n",
              "      <td>40</td>\n",
              "      <td>330.0</td>\n",
              "      <td>0</td>\n",
              "      <td>40</td>\n",
              "      <td>220</td>\n",
              "      <td>0</td>\n",
              "      <td>22</td>\n",
              "      <td>88</td>\n",
              "      <td>0</td>\n",
              "      <td>5</td>\n",
              "      <td>11</td>\n",
              "      <td>0</td>\n",
              "    </tr>\n",
              "    <tr>\n",
              "      <th>1</th>\n",
              "      <td>40</td>\n",
              "      <td>150</td>\n",
              "      <td>1</td>\n",
              "      <td>40</td>\n",
              "      <td>75.0</td>\n",
              "      <td>1</td>\n",
              "      <td>40</td>\n",
              "      <td>50</td>\n",
              "      <td>1</td>\n",
              "      <td>33</td>\n",
              "      <td>99</td>\n",
              "      <td>1</td>\n",
              "      <td>11</td>\n",
              "      <td>11</td>\n",
              "      <td>1</td>\n",
              "    </tr>\n",
              "  </tbody>\n",
              "</table>\n",
              "</div>\n",
              "    <div class=\"colab-df-buttons\">\n",
              "\n",
              "  <div class=\"colab-df-container\">\n",
              "    <button class=\"colab-df-convert\" onclick=\"convertToInteractive('df-36f5f886-e626-4869-b9c5-8ae3374ae522')\"\n",
              "            title=\"Convert this dataframe to an interactive table.\"\n",
              "            style=\"display:none;\">\n",
              "\n",
              "  <svg xmlns=\"http://www.w3.org/2000/svg\" height=\"24px\" viewBox=\"0 -960 960 960\">\n",
              "    <path d=\"M120-120v-720h720v720H120Zm60-500h600v-160H180v160Zm220 220h160v-160H400v160Zm0 220h160v-160H400v160ZM180-400h160v-160H180v160Zm440 0h160v-160H620v160ZM180-180h160v-160H180v160Zm440 0h160v-160H620v160Z\"/>\n",
              "  </svg>\n",
              "    </button>\n",
              "\n",
              "  <style>\n",
              "    .colab-df-container {\n",
              "      display:flex;\n",
              "      gap: 12px;\n",
              "    }\n",
              "\n",
              "    .colab-df-convert {\n",
              "      background-color: #E8F0FE;\n",
              "      border: none;\n",
              "      border-radius: 50%;\n",
              "      cursor: pointer;\n",
              "      display: none;\n",
              "      fill: #1967D2;\n",
              "      height: 32px;\n",
              "      padding: 0 0 0 0;\n",
              "      width: 32px;\n",
              "    }\n",
              "\n",
              "    .colab-df-convert:hover {\n",
              "      background-color: #E2EBFA;\n",
              "      box-shadow: 0px 1px 2px rgba(60, 64, 67, 0.3), 0px 1px 3px 1px rgba(60, 64, 67, 0.15);\n",
              "      fill: #174EA6;\n",
              "    }\n",
              "\n",
              "    .colab-df-buttons div {\n",
              "      margin-bottom: 4px;\n",
              "    }\n",
              "\n",
              "    [theme=dark] .colab-df-convert {\n",
              "      background-color: #3B4455;\n",
              "      fill: #D2E3FC;\n",
              "    }\n",
              "\n",
              "    [theme=dark] .colab-df-convert:hover {\n",
              "      background-color: #434B5C;\n",
              "      box-shadow: 0px 1px 3px 1px rgba(0, 0, 0, 0.15);\n",
              "      filter: drop-shadow(0px 1px 2px rgba(0, 0, 0, 0.3));\n",
              "      fill: #FFFFFF;\n",
              "    }\n",
              "  </style>\n",
              "\n",
              "    <script>\n",
              "      const buttonEl =\n",
              "        document.querySelector('#df-36f5f886-e626-4869-b9c5-8ae3374ae522 button.colab-df-convert');\n",
              "      buttonEl.style.display =\n",
              "        google.colab.kernel.accessAllowed ? 'block' : 'none';\n",
              "\n",
              "      async function convertToInteractive(key) {\n",
              "        const element = document.querySelector('#df-36f5f886-e626-4869-b9c5-8ae3374ae522');\n",
              "        const dataTable =\n",
              "          await google.colab.kernel.invokeFunction('convertToInteractive',\n",
              "                                                    [key], {});\n",
              "        if (!dataTable) return;\n",
              "\n",
              "        const docLinkHtml = 'Like what you see? Visit the ' +\n",
              "          '<a target=\"_blank\" href=https://colab.research.google.com/notebooks/data_table.ipynb>data table notebook</a>'\n",
              "          + ' to learn more about interactive tables.';\n",
              "        element.innerHTML = '';\n",
              "        dataTable['output_type'] = 'display_data';\n",
              "        await google.colab.output.renderOutput(dataTable, element);\n",
              "        const docLink = document.createElement('div');\n",
              "        docLink.innerHTML = docLinkHtml;\n",
              "        element.appendChild(docLink);\n",
              "      }\n",
              "    </script>\n",
              "  </div>\n",
              "\n",
              "\n",
              "    <div id=\"df-84e8c92c-5a67-4b77-9c89-2ba5069c5fb7\">\n",
              "      <button class=\"colab-df-quickchart\" onclick=\"quickchart('df-84e8c92c-5a67-4b77-9c89-2ba5069c5fb7')\"\n",
              "                title=\"Suggest charts\"\n",
              "                style=\"display:none;\">\n",
              "\n",
              "<svg xmlns=\"http://www.w3.org/2000/svg\" height=\"24px\"viewBox=\"0 0 24 24\"\n",
              "     width=\"24px\">\n",
              "    <g>\n",
              "        <path d=\"M19 3H5c-1.1 0-2 .9-2 2v14c0 1.1.9 2 2 2h14c1.1 0 2-.9 2-2V5c0-1.1-.9-2-2-2zM9 17H7v-7h2v7zm4 0h-2V7h2v10zm4 0h-2v-4h2v4z\"/>\n",
              "    </g>\n",
              "</svg>\n",
              "      </button>\n",
              "\n",
              "<style>\n",
              "  .colab-df-quickchart {\n",
              "      --bg-color: #E8F0FE;\n",
              "      --fill-color: #1967D2;\n",
              "      --hover-bg-color: #E2EBFA;\n",
              "      --hover-fill-color: #174EA6;\n",
              "      --disabled-fill-color: #AAA;\n",
              "      --disabled-bg-color: #DDD;\n",
              "  }\n",
              "\n",
              "  [theme=dark] .colab-df-quickchart {\n",
              "      --bg-color: #3B4455;\n",
              "      --fill-color: #D2E3FC;\n",
              "      --hover-bg-color: #434B5C;\n",
              "      --hover-fill-color: #FFFFFF;\n",
              "      --disabled-bg-color: #3B4455;\n",
              "      --disabled-fill-color: #666;\n",
              "  }\n",
              "\n",
              "  .colab-df-quickchart {\n",
              "    background-color: var(--bg-color);\n",
              "    border: none;\n",
              "    border-radius: 50%;\n",
              "    cursor: pointer;\n",
              "    display: none;\n",
              "    fill: var(--fill-color);\n",
              "    height: 32px;\n",
              "    padding: 0;\n",
              "    width: 32px;\n",
              "  }\n",
              "\n",
              "  .colab-df-quickchart:hover {\n",
              "    background-color: var(--hover-bg-color);\n",
              "    box-shadow: 0 1px 2px rgba(60, 64, 67, 0.3), 0 1px 3px 1px rgba(60, 64, 67, 0.15);\n",
              "    fill: var(--button-hover-fill-color);\n",
              "  }\n",
              "\n",
              "  .colab-df-quickchart-complete:disabled,\n",
              "  .colab-df-quickchart-complete:disabled:hover {\n",
              "    background-color: var(--disabled-bg-color);\n",
              "    fill: var(--disabled-fill-color);\n",
              "    box-shadow: none;\n",
              "  }\n",
              "\n",
              "  .colab-df-spinner {\n",
              "    border: 2px solid var(--fill-color);\n",
              "    border-color: transparent;\n",
              "    border-bottom-color: var(--fill-color);\n",
              "    animation:\n",
              "      spin 1s steps(1) infinite;\n",
              "  }\n",
              "\n",
              "  @keyframes spin {\n",
              "    0% {\n",
              "      border-color: transparent;\n",
              "      border-bottom-color: var(--fill-color);\n",
              "      border-left-color: var(--fill-color);\n",
              "    }\n",
              "    20% {\n",
              "      border-color: transparent;\n",
              "      border-left-color: var(--fill-color);\n",
              "      border-top-color: var(--fill-color);\n",
              "    }\n",
              "    30% {\n",
              "      border-color: transparent;\n",
              "      border-left-color: var(--fill-color);\n",
              "      border-top-color: var(--fill-color);\n",
              "      border-right-color: var(--fill-color);\n",
              "    }\n",
              "    40% {\n",
              "      border-color: transparent;\n",
              "      border-right-color: var(--fill-color);\n",
              "      border-top-color: var(--fill-color);\n",
              "    }\n",
              "    60% {\n",
              "      border-color: transparent;\n",
              "      border-right-color: var(--fill-color);\n",
              "    }\n",
              "    80% {\n",
              "      border-color: transparent;\n",
              "      border-right-color: var(--fill-color);\n",
              "      border-bottom-color: var(--fill-color);\n",
              "    }\n",
              "    90% {\n",
              "      border-color: transparent;\n",
              "      border-bottom-color: var(--fill-color);\n",
              "    }\n",
              "  }\n",
              "</style>\n",
              "\n",
              "      <script>\n",
              "        async function quickchart(key) {\n",
              "          const quickchartButtonEl =\n",
              "            document.querySelector('#' + key + ' button');\n",
              "          quickchartButtonEl.disabled = true;  // To prevent multiple clicks.\n",
              "          quickchartButtonEl.classList.add('colab-df-spinner');\n",
              "          try {\n",
              "            const charts = await google.colab.kernel.invokeFunction(\n",
              "                'suggestCharts', [key], {});\n",
              "          } catch (error) {\n",
              "            console.error('Error during call to suggestCharts:', error);\n",
              "          }\n",
              "          quickchartButtonEl.classList.remove('colab-df-spinner');\n",
              "          quickchartButtonEl.classList.add('colab-df-quickchart-complete');\n",
              "        }\n",
              "        (() => {\n",
              "          let quickchartButtonEl =\n",
              "            document.querySelector('#df-84e8c92c-5a67-4b77-9c89-2ba5069c5fb7 button');\n",
              "          quickchartButtonEl.style.display =\n",
              "            google.colab.kernel.accessAllowed ? 'block' : 'none';\n",
              "        })();\n",
              "      </script>\n",
              "    </div>\n",
              "\n",
              "    </div>\n",
              "  </div>\n"
            ],
            "application/vnd.google.colaboratory.intrinsic+json": {
              "type": "dataframe",
              "variable_name": "df",
              "summary": "{\n  \"name\": \"df\",\n  \"rows\": 56,\n  \"fields\": [\n    {\n      \"column\": \"PREmRNA\",\n      \"properties\": {\n        \"dtype\": \"number\",\n        \"std\": 12,\n        \"min\": 3,\n        \"max\": 40,\n        \"num_unique_values\": 11,\n        \"samples\": [\n          5,\n          40,\n          4\n        ],\n        \"semantic_type\": \"\",\n        \"description\": \"\"\n      }\n    },\n    {\n      \"column\": \"POSTmRNA\",\n      \"properties\": {\n        \"dtype\": \"number\",\n        \"std\": 592,\n        \"min\": 18,\n        \"max\": 1665,\n        \"num_unique_values\": 11,\n        \"samples\": [\n          999,\n          660,\n          18\n        ],\n        \"semantic_type\": \"\",\n        \"description\": \"\"\n      }\n    },\n    {\n      \"column\": \"PlacebomRNA\",\n      \"properties\": {\n        \"dtype\": \"number\",\n        \"std\": 0,\n        \"min\": 0,\n        \"max\": 1,\n        \"num_unique_values\": 2,\n        \"samples\": [\n          1,\n          0\n        ],\n        \"semantic_type\": \"\",\n        \"description\": \"\"\n      }\n    },\n    {\n      \"column\": \"PREVector\",\n      \"properties\": {\n        \"dtype\": \"number\",\n        \"std\": 12,\n        \"min\": 3,\n        \"max\": 40,\n        \"num_unique_values\": 11,\n        \"samples\": [\n          5,\n          40\n        ],\n        \"semantic_type\": \"\",\n        \"description\": \"\"\n      }\n    },\n    {\n      \"column\": \"POSTVector\",\n      \"properties\": {\n        \"dtype\": \"number\",\n        \"std\": 296.0199887950706,\n        \"min\": 9.0,\n        \"max\": 832.5,\n        \"num_unique_values\": 11,\n        \"samples\": [\n          499.5,\n          330.0\n        ],\n        \"semantic_type\": \"\",\n        \"description\": \"\"\n      }\n    },\n    {\n      \"column\": \"PlaceboVector\",\n      \"properties\": {\n        \"dtype\": \"number\",\n        \"std\": 0,\n        \"min\": 0,\n        \"max\": 1,\n        \"num_unique_values\": 2,\n        \"samples\": [\n          1,\n          0\n        ],\n        \"semantic_type\": \"\",\n        \"description\": \"\"\n      }\n    },\n    {\n      \"column\": \"PREProtein\",\n      \"properties\": {\n        \"dtype\": \"number\",\n        \"std\": 12,\n        \"min\": 3,\n        \"max\": 40,\n        \"num_unique_values\": 11,\n        \"samples\": [\n          5,\n          40\n        ],\n        \"semantic_type\": \"\",\n        \"description\": \"\"\n      }\n    },\n    {\n      \"column\": \"POSTProtein\",\n      \"properties\": {\n        \"dtype\": \"number\",\n        \"std\": 197,\n        \"min\": 6,\n        \"max\": 555,\n        \"num_unique_values\": 11,\n        \"samples\": [\n          333,\n          220\n        ],\n        \"semantic_type\": \"\",\n        \"description\": \"\"\n      }\n    },\n    {\n      \"column\": \"PlaceboProtein\",\n      \"properties\": {\n        \"dtype\": \"number\",\n        \"std\": 0,\n        \"min\": 0,\n        \"max\": 1,\n        \"num_unique_values\": 2,\n        \"samples\": [\n          1,\n          0\n        ],\n        \"semantic_type\": \"\",\n        \"description\": \"\"\n      }\n    },\n    {\n      \"column\": \"PREInactivated\",\n      \"properties\": {\n        \"dtype\": \"number\",\n        \"std\": 7,\n        \"min\": 10,\n        \"max\": 33,\n        \"num_unique_values\": 7,\n        \"samples\": [\n          22,\n          33\n        ],\n        \"semantic_type\": \"\",\n        \"description\": \"\"\n      }\n    },\n    {\n      \"column\": \"POSTInactivated\",\n      \"properties\": {\n        \"dtype\": \"number\",\n        \"std\": 15,\n        \"min\": 88,\n        \"max\": 133,\n        \"num_unique_values\": 9,\n        \"samples\": [\n          90,\n          99\n        ],\n        \"semantic_type\": \"\",\n        \"description\": \"\"\n      }\n    },\n    {\n      \"column\": \"PlaceboInactivated\",\n      \"properties\": {\n        \"dtype\": \"number\",\n        \"std\": 0,\n        \"min\": 0,\n        \"max\": 1,\n        \"num_unique_values\": 2,\n        \"samples\": [\n          1,\n          0\n        ],\n        \"semantic_type\": \"\",\n        \"description\": \"\"\n      }\n    },\n    {\n      \"column\": \"PreDNA\",\n      \"properties\": {\n        \"dtype\": \"number\",\n        \"std\": 7,\n        \"min\": 5,\n        \"max\": 29,\n        \"num_unique_values\": 9,\n        \"samples\": [\n          23,\n          11\n        ],\n        \"semantic_type\": \"\",\n        \"description\": \"\"\n      }\n    },\n    {\n      \"column\": \"PostDNA\",\n      \"properties\": {\n        \"dtype\": \"number\",\n        \"std\": 8,\n        \"min\": 5,\n        \"max\": 33,\n        \"num_unique_values\": 11,\n        \"samples\": [\n          24,\n          11\n        ],\n        \"semantic_type\": \"\",\n        \"description\": \"\"\n      }\n    },\n    {\n      \"column\": \"PlaceboDNA\",\n      \"properties\": {\n        \"dtype\": \"number\",\n        \"std\": 0,\n        \"min\": 0,\n        \"max\": 1,\n        \"num_unique_values\": 2,\n        \"samples\": [\n          1,\n          0\n        ],\n        \"semantic_type\": \"\",\n        \"description\": \"\"\n      }\n    }\n  ]\n}"
            }
          },
          "metadata": {},
          "execution_count": 6
        }
      ],
      "source": [
        "import pandas as pd\n",
        "import matplotlib.pyplot as plt\n",
        "df = pd.read_csv('https://raw.githubusercontent.com/lcbjrrr/algojust/refs/heads/main/Covid%20-%20Cytokine.csv')\n",
        "df.head(2)"
      ]
    },
    {
      "cell_type": "markdown",
      "source": [
        "#### Are any of the vaccines effective? Let's take the DNA based one as an initial exemple..."
      ],
      "metadata": {
        "id": "yX2fwn0Unlxh"
      }
    },
    {
      "cell_type": "code",
      "source": [
        "df_non_placebo = df[df['PlaceboDNA'] == 0].copy()\n",
        "avg_prem = df_non_placebo['PreDNA'].mean()\n",
        "avg_postm = df_non_placebo['PostDNA'].mean()\n",
        "sem_prem = df_non_placebo['PreDNA'].sem()\n",
        "sem_postm = df_non_placebo['PostDNA'].sem()\n",
        "print(avg_prem,avg_postm)\n",
        "plt.bar(['PREDNA', 'POSTDNA'], [avg_prem, avg_postm] )"
      ],
      "metadata": {
        "colab": {
          "base_uri": "https://localhost:8080/",
          "height": 469
        },
        "id": "n8QXqRKjoi0Q",
        "outputId": "8c0870cc-1ef7-4530-efeb-b9f5f79ec38d"
      },
      "execution_count": 12,
      "outputs": [
        {
          "output_type": "stream",
          "name": "stdout",
          "text": [
            "14.25 19.125\n"
          ]
        },
        {
          "output_type": "execute_result",
          "data": {
            "text/plain": [
              "<BarContainer object of 2 artists>"
            ]
          },
          "metadata": {},
          "execution_count": 12
        },
        {
          "output_type": "display_data",
          "data": {
            "text/plain": [
              "<Figure size 640x480 with 1 Axes>"
            ],
            "image/png": "[encoded data removed]"
          },
          "metadata": {}
        }
      ]
    },
    {
      "cell_type": "markdown",
      "source": [
        "#### How sure are you?"
      ],
      "metadata": {
        "id": "9GVkvKOCojAa"
      }
    },
    {
      "cell_type": "code",
      "source": [
        "df_non_placebo = df[df['PlaceboDNA'] == 0].copy()\n",
        "avg_prem = df_non_placebo['PreDNA'].mean()\n",
        "avg_postm = df_non_placebo['PostDNA'].mean()\n",
        "sem_prem = df_non_placebo['PreDNA'].sem()\n",
        "sem_postm = df_non_placebo['PostDNA'].sem()\n",
        "print(avg_prem-sem_prem*1.96,avg_prem+sem_prem*1.96,avg_postm-sem_postm*1.96,avg_postm+sem_postm*1.96)\n",
        "plt.grid(True)\n",
        "plt.bar(['PREDNA', 'POSTDNA'], [avg_prem, avg_postm], yerr=[sem_prem*1.96,sem_postm*1.96])"
      ],
      "metadata": {
        "colab": {
          "base_uri": "https://localhost:8080/",
          "height": 465
        },
        "id": "tpYnacptoMBf",
        "outputId": "c4b5fc7c-99bb-414f-b9d3-0be89756c7e8"
      },
      "execution_count": 4,
      "outputs": [
        {
          "output_type": "stream",
          "name": "stdout",
          "text": [
            "11.279858806440775 17.220141193559225 16.407106039477412 21.842893960522588\n"
          ]
        },
        {
          "output_type": "execute_result",
          "data": {
            "text/plain": [
              "<BarContainer object of 2 artists>"
            ]
          },
          "metadata": {},
          "execution_count": 4
        },
        {
          "output_type": "display_data",
          "data": {
            "text/plain": [
              "<Figure size 640x480 with 1 Axes>"
            ],
            "image/png": "[encoded data removed]"
          },
          "metadata": {}
        }
      ]
    },
    {
      "cell_type": "markdown",
      "source": [
        "#### Let's take another vaccine then, how about Inactivated virus based one?"
      ],
      "metadata": {
        "id": "58t7HUNRofEl"
      }
    },
    {
      "cell_type": "code",
      "source": [
        "df_non_placebo = df[df['PlaceboInactivated'] == 0].copy()\n",
        "avg_prem = df_non_placebo['PREInactivated'].mean()\n",
        "avg_postm = df_non_placebo['POSTInactivated'].mean()\n",
        "sem_prem = df_non_placebo['PREInactivated'].sem()\n",
        "sem_postm = df_non_placebo['POSTInactivated'].sem()\n",
        "plt.grid(True)\n",
        "plt.bar(['PREInactivated', 'POSTInactivated'], [avg_prem, avg_postm], yerr=[sem_prem*1.96,sem_postm*1.96])"
      ],
      "metadata": {
        "colab": {
          "base_uri": "https://localhost:8080/",
          "height": 449
        },
        "id": "rf6E7ZvqofKe",
        "outputId": "0efdab0d-75e2-41d1-85b1-7fd5a9c23c88"
      },
      "execution_count": 8,
      "outputs": [
        {
          "output_type": "execute_result",
          "data": {
            "text/plain": [
              "<BarContainer object of 2 artists>"
            ]
          },
          "metadata": {},
          "execution_count": 8
        },
        {
          "output_type": "display_data",
          "data": {
            "text/plain": [
              "<Figure size 640x480 with 1 Axes>"
            ],
            "image/png": "[encoded data removed]"
          },
          "metadata": {}
        }
      ]
    },
    {
      "cell_type": "markdown",
      "source": [
        "#### Make sure to compare your results um a control group, for intance, people that took placebo."
      ],
      "metadata": {
        "id": "4UA4K4-hpgSi"
      }
    },
    {
      "cell_type": "code",
      "source": [
        "df_placebo = df[df['PlaceboInactivated'] == 1].copy()\n",
        "avg_placebo = df_placebo['POSTInactivated'].mean()\n",
        "sem_placebo = df_placebo['POSTInactivated'].sem()\n",
        "plt.grid(True)\n",
        "print(avg_postm-sem_postm*1.96,avg_postm+sem_postm*1.96, avg_placebo-sem_placebo*1.96,avg_placebo+sem_placebo*1.96)\n",
        "plt.bar(['Inactivated', 'Placebo'],[avg_postm,avg_placebo], yerr=[sem_postm*1.96, sem_placebo*1.96])"
      ],
      "metadata": {
        "colab": {
          "base_uri": "https://localhost:8080/",
          "height": 467
        },
        "id": "uxN-wm1vpgYA",
        "outputId": "12305a6f-8535-4839-b82d-d8236e9c2464"
      },
      "execution_count": 9,
      "outputs": [
        {
          "output_type": "stream",
          "name": "stdout",
          "text": [
            "102.69047315305988 115.30952684694012 95.90021659266698 103.09978340733302\n"
          ]
        },
        {
          "output_type": "execute_result",
          "data": {
            "text/plain": [
              "<BarContainer object of 2 artists>"
            ]
          },
          "metadata": {},
          "execution_count": 9
        },
        {
          "output_type": "display_data",
          "data": {
            "text/plain": [
              "<Figure size 640x480 with 1 Axes>"
            ],
            "image/png": "[encoded data removed]"
          },
          "metadata": {}
        }
      ]
    },
    {
      "cell_type": "markdown",
      "source": [
        "#### Let's check on the RNA based one:"
      ],
      "metadata": {
        "id": "eqjAirGPpyuc"
      }
    },
    {
      "cell_type": "code",
      "source": [
        "import seaborn as sns\n",
        "import numpy as np\n",
        "import matplotlib.pyplot as plt\n",
        "plt.grid(True)\n",
        "df_non_placebo = df[df['PlacebomRNA'] == 0].copy()\n",
        "avg_prem = df_non_placebo['PREmRNA'].mean()\n",
        "avg_postm = df_non_placebo['POSTmRNA'].mean()\n",
        "sem_prem = df_non_placebo['PREmRNA'].sem()\n",
        "sem_postm = df_non_placebo['POSTmRNA'].sem()\n",
        "plt.bar(['PREmRNA', 'POSTmRNA'], [avg_prem, avg_postm], yerr=[sem_prem*1.96,sem_postm*1.96])"
      ],
      "metadata": {
        "colab": {
          "base_uri": "https://localhost:8080/",
          "height": 447
        },
        "id": "rTWmg9OOJbtY",
        "outputId": "d8f9140d-7519-4f97-d987-b3be25d2bece"
      },
      "execution_count": 10,
      "outputs": [
        {
          "output_type": "execute_result",
          "data": {
            "text/plain": [
              "<BarContainer object of 2 artists>"
            ]
          },
          "metadata": {},
          "execution_count": 10
        },
        {
          "output_type": "display_data",
          "data": {
            "text/plain": [
              "<Figure size 640x480 with 1 Axes>"
            ],
            "image/png": "[encoded data removed]"
          },
          "metadata": {}
        }
      ]
    },
    {
      "cell_type": "code",
      "source": [
        "df_placebo = df[df['PlacebomRNA'] == 1].copy()\n",
        "avg_placebo = df_placebo['POSTmRNA'].mean()\n",
        "sem_placebo = df_placebo['POSTmRNA'].sem()\n",
        "plt.grid(True)\n",
        "plt.bar(['mRNA', 'Placebo'],[avg_postm,avg_placebo], yerr=[sem_postm*1.96, sem_placebo*1.96])"
      ],
      "metadata": {
        "colab": {
          "base_uri": "https://localhost:8080/",
          "height": 447
        },
        "id": "dtvGmvyJKXY8",
        "outputId": "c404f20f-4de6-4729-956d-ee71ecf3217d"
      },
      "execution_count": 11,
      "outputs": [
        {
          "output_type": "execute_result",
          "data": {
            "text/plain": [
              "<BarContainer object of 2 artists>"
            ]
          },
          "metadata": {},
          "execution_count": 11
        },
        {
          "output_type": "display_data",
          "data": {
            "text/plain": [
              "<Figure size 640x480 with 1 Axes>"
            ],
            "image/png": "[encoded data removed]"
          },
          "metadata": {}
        }
      ]
    },
    {
      "cell_type": "markdown",
      "source": [
        "#### Are any of the vaccines \"more efficient\" than the others? Meaning, is there a statistically significant relationship between two categorical variables by comparing observed frequencies to expected frequencies?"
      ],
      "metadata": {
        "id": "jxgqi5spqWEp"
      }
    },
    {
      "cell_type": "markdown",
      "source": [
        "# Chi-Squared test"
      ],
      "metadata": {
        "id": "xDs_zdiqkMO0"
      }
    },
    {
      "cell_type": "markdown",
      "source": [
        "The **Chi-Squared test** (often written as χ2 test) is a statistical hypothesis test that is widely used in the analysis of categorical data. It helps determine if there is a significant association between two categorical variables or if the observed frequency distribution of a single categorical variable differs from an expected frequency distribution.\n",
        "\n",
        "|          | Immune | Not |\n",
        "|----------|------|------|\n",
        "| mRNA | 25   | 5    |\n",
        "| DNA  | 5    | 10   |\n",
        "\n"
      ],
      "metadata": {
        "id": "v9Ms-APVbWys"
      }
    },
    {
      "cell_type": "code",
      "source": [
        "import numpy as np\n",
        "from scipy.stats import chisquare\n",
        "data = np.array([[25, 5],\n",
        "                 [5, 10]])\n",
        "mRNA = data[0,:].sum()\n",
        "DNA = data[1,:].sum()\n",
        "immune = data[:,0].sum()\n",
        "not_immune = data[:,1].sum()\n",
        "total = data.sum()\n",
        "print(mRNA,DNA,immune,not_immune,total)\n"
      ],
      "metadata": {
        "colab": {
          "base_uri": "https://localhost:8080/"
        },
        "id": "1Jx0-SbDXKAZ",
        "outputId": "54b93390-56a4-461c-ee61-5efcc4b8caa6"
      },
      "execution_count": null,
      "outputs": [
        {
          "output_type": "stream",
          "name": "stdout",
          "text": [
            "30 15 30 15 45\n"
          ]
        }
      ]
    },
    {
      "cell_type": "markdown",
      "source": [
        "\n",
        "|          | Immune | Not | Total |\n",
        "|----------|------|------|-------|\n",
        "| mRNA | 25   | 5    | **30**    |\n",
        "| DNA  | 5    | 10   | **15**    |\n",
        "| **Total**    | **30**   | **15**   | **45**    |\n",
        "\n"
      ],
      "metadata": {
        "id": "KIDinr0SjgSK"
      }
    },
    {
      "cell_type": "markdown",
      "source": [
        "$$T \\times P(mRNA) \\times P(imu) = total \\times \\left( \\frac{mRNA}{total} \\right) \\left( \\frac{immune}{total}\\right).\n",
        "$$\n",
        "\n"
      ],
      "metadata": {
        "id": "3BG5u6KEjhQT"
      }
    },
    {
      "cell_type": "markdown",
      "source": [
        "|          | **.................Immune.................** | **.............Not Immune.............** |\n",
        "|----------|------|------|\n",
        "| **mRNA** | $T \\times P(mRNA) \\times P(imu)$    | $T \\times P(mRNA) \\times  P(not)$    |\n",
        "| **DNA**  | $T \\times P(DNA) \\times P(imu)$    | $T \\times P(DNA) \\times P(not)$     |"
      ],
      "metadata": {
        "id": "M1gg7slEjjvb"
      }
    },
    {
      "cell_type": "code",
      "source": [
        "expected = np.array([[total*(mRNA/total)*(immune/total), total*(mRNA/total)*(not_immune/total)],\n",
        "                   [total*(DNA/total)*(immune/total), total*(DNA/total)*(not_immune/total)]])\n",
        "print(expected)\n",
        "stat, p_value = chisquare(data.flatten(), f_exp=expected.flatten())\n",
        "\n",
        "alpha = 0.05\n",
        "print(stat)\n",
        "print(p_value)\n",
        "\n",
        "#Conclusion: Highly Significant Association: The p-value (~0.0008) is much less than 0.05, indicating a very strong statistical association between..."
      ],
      "metadata": {
        "colab": {
          "base_uri": "https://localhost:8080/"
        },
        "id": "eTSXe38oZ1iw",
        "outputId": "1ef6b5e7-2af9-4c80-d15f-e8696108ecac"
      },
      "execution_count": null,
      "outputs": [
        {
          "output_type": "stream",
          "name": "stdout",
          "text": [
            "[[20. 10.]\n",
            " [10.  5.]]\n",
            "11.25\n",
            "0.010448064558680668\n"
          ]
        }
      ]
    },
    {
      "cell_type": "code",
      "source": [],
      "metadata": {
        "id": "DrnqWriKm3h_"
      },
      "execution_count": null,
      "outputs": []
    }
  ]
}